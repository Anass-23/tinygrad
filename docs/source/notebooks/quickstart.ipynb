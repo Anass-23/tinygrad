{
 "cells": [
  {
   "cell_type": "markdown",
   "metadata": {},
   "source": [
    "# Tinygrad Start Guide\n",
    "\n",
    "This guide assumes no prior knowledge of pytorch or any other deep learning framework, but does assume some basic knowledge of neural networks.\n",
    "It is intended to be a very quick overview of the high level API that tinygrad provides.\n",
    "\n",
    "This guide is also structured as a tutorial which at the end of it you will have a working model that can classify handwritten digits.\n",
    "\n",
    "We need some imports to get started:"
   ]
  },
  {
   "cell_type": "code",
   "execution_count": 1,
   "metadata": {},
   "outputs": [],
   "source": [
    "import numpy as np"
   ]
  },
  {
   "cell_type": "markdown",
   "metadata": {},
   "source": [
    "## Tensors\n",
    "\n",
    "Tensors are the base data structure in tinygrad. They can be thought of as a multidimensional array of a specific data type.\n",
    "All high level operations in tinygrad operate on these tensors.\n",
    "\n",
    "The tensor class can be imported like so:"
   ]
  },
  {
   "cell_type": "code",
   "execution_count": 2,
   "metadata": {},
   "outputs": [],
   "source": [
    "from tinygrad.tensor import Tensor"
   ]
  },
  {
   "cell_type": "markdown",
   "metadata": {},
   "source": [
    "Tensors can be created from an existing data structure like a python list or numpy ndarray:"
   ]
  },
  {
   "cell_type": "code",
   "execution_count": 3,
   "metadata": {},
   "outputs": [],
   "source": [
    "t1 = Tensor([1, 2, 3, 4, 5])\n",
    "na = np.array([1, 2, 3, 4, 5])\n",
    "t2 = Tensor(na)"
   ]
  },
  {
   "cell_type": "markdown",
   "metadata": {},
   "source": [
    "Tensors can also be created using one of the many factory methods:"
   ]
  },
  {
   "cell_type": "code",
   "execution_count": 4,
   "metadata": {},
   "outputs": [],
   "source": [
    "full = Tensor.full(shape=(2, 3), fill_value=5) # create a tensor of shape (2, 3) filled with 5\n",
    "zeros = Tensor.zeros(2, 3) # create a tensor of shape (2, 3) filled with 0\n",
    "ones = Tensor.ones(2, 3) # create a tensor of shape (2, 3) filled with 1\n",
    "\n",
    "full_like = Tensor.full_like(full, fill_value=2) # create a tensor of the same shape as `full` filled with 2\n",
    "zeros_like = Tensor.zeros_like(full) # create a tensor of the same shape as `full` filled with 0\n",
    "ones_like = Tensor.ones_like(full) # create a tensor of the same shape as `full` filled with 1\n",
    "\n",
    "eye = Tensor.eye(3) # create a 3x3 identity matrix\n",
    "arange = Tensor.arange(start=0, stop=10, step=1) # create a tensor of shape (10,) filled with values from 0 to 9\n",
    "\n",
    "rand = Tensor.rand(2, 3) # create a tensor of shape (2, 3) filled with random values from a uniform distribution\n",
    "randn = Tensor.randn(2, 3) # create a tensor of shape (2, 3) filled with random values from a normal distribution\n",
    "uniform = Tensor.uniform(2, 3, low=0, high=10) # create a tensor of shape (2, 3) filled with random values from a uniform distribution between 0 and 10"
   ]
  },
  {
   "cell_type": "markdown",
   "metadata": {},
   "source": [
    "There are even more of these factory methods, you can find them in the [tensor.py](/tinygrad/tensor.py) file.\n",
    "\n",
    "All the tensors creation methods can take a `dtype` argument to specify the data type of the tensor."
   ]
  },
  {
   "cell_type": "code",
   "execution_count": 5,
   "metadata": {},
   "outputs": [],
   "source": [
    "from tinygrad.helpers import dtypes\n",
    "\n",
    "t3 = Tensor([1, 2, 3, 4, 5], dtype=dtypes.int32)"
   ]
  },
  {
   "cell_type": "markdown",
   "metadata": {},
   "source": [
    "Tensors allow you to perform operations on them like so:"
   ]
  },
  {
   "cell_type": "code",
   "execution_count": 6,
   "metadata": {},
   "outputs": [],
   "source": [
    "t4 = Tensor([1, 2, 3, 4, 5])\n",
    "t5 = (t4 + 1) * 2\n",
    "t6 = (t5 * t4).relu().log_softmax()"
   ]
  },
  {
   "cell_type": "markdown",
   "metadata": {},
   "source": [
    "All of these operations are lazy and are only executed when you realize the tensor using `.realize()` or `.numpy()`."
   ]
  },
  {
   "cell_type": "code",
   "execution_count": 7,
   "metadata": {},
   "outputs": [
    {
     "data": {
      "text/plain": [
       "array([-56., -48., -36., -20.,   0.], dtype=float32)"
      ]
     },
     "execution_count": 7,
     "metadata": {},
     "output_type": "execute_result"
    }
   ],
   "source": [
    "t6.numpy()"
   ]
  },
  {
   "cell_type": "markdown",
   "metadata": {},
   "source": [
    "There are a lot more operations that can be performed on tensors, you can find them in the [tensor.py](/tinygrad/tensor.py) file.\n",
    "Additionally reading through [abstractions.py](/docs/abstractions.py) will help you understand how operations on these tensors make their way down to your hardware."
   ]
  }
 ],
 "metadata": {
  "kernelspec": {
   "display_name": "env",
   "language": "python",
   "name": "python3"
  },
  "language_info": {
   "codemirror_mode": {
    "name": "ipython",
    "version": 3
   },
   "file_extension": ".py",
   "mimetype": "text/x-python",
   "name": "python",
   "nbconvert_exporter": "python",
   "pygments_lexer": "ipython3",
   "version": "3.11.3"
  }
 },
 "nbformat": 4,
 "nbformat_minor": 2
}
